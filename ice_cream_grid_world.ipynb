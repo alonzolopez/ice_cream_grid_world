{
 "cells": [
  {
   "cell_type": "code",
   "execution_count": 1,
   "metadata": {},
   "outputs": [],
   "source": [
    "import numpy as np"
   ]
  },
  {
   "cell_type": "code",
   "execution_count": 16,
   "metadata": {},
   "outputs": [
    {
     "name": "stdout",
     "output_type": "stream",
     "text": [
      "States\n",
      "[(0, 0), (1, 0), (2, 0), (3, 0), (4, 0), (0, 1), (1, 1), (2, 1), (3, 1), (4, 1), (0, 2), (1, 2), (2, 2), (3, 2), (4, 2), (0, 3), (1, 3), (2, 3), (3, 3), (4, 3), (0, 4), (1, 4), (2, 4), (3, 4), (4, 4)]\n",
      "Number of states:  25\n",
      "\n",
      "\n",
      "Actions\n",
      "[(0, 0), (0, 1), (1, 0), (0, -1), (-1, 0)]\n",
      "Number of actions:  5\n",
      "\n",
      "\n",
      "Transition Probabilities\n",
      "Shape of the transition probability matrix:  (25, 5, 25)\n",
      "Number of transition probabilities:  3125\n",
      "[[-10. -10. -10. -10. -10.]\n",
      " [-10. -10. -10. -10. -10.]\n",
      " [-10. -10. -10. -10. -10.]\n",
      " [-10. -10. -10. -10. -10.]\n",
      " [-10. -10. -10. -10. -10.]\n",
      " [-10. -10. -10. -10. -10.]\n",
      " [-10. -10. -10. -10. -10.]\n",
      " [-10. -10. -10. -10. -10.]\n",
      " [-10. -10. -10. -10. -10.]\n",
      " [-10. -10. -10. -10. -10.]\n",
      " [-10. -10. -10. -10. -10.]\n",
      " [-10. -10. -10. -10. -10.]\n",
      " [-10. -10. -10. -10. -10.]\n",
      " [-10. -10. -10. -10. -10.]\n",
      " [-10. -10. -10. -10. -10.]\n",
      " [-10. -10. -10. -10. -10.]\n",
      " [-10. -10. -10. -10. -10.]\n",
      " [-10. -10. -10. -10. -10.]\n",
      " [-10. -10. -10. -10. -10.]\n",
      " [-10. -10. -10. -10. -10.]\n",
      " [-10. -10. -10. -10. -10.]\n",
      " [-10. -10. -10. -10. -10.]\n",
      " [-10. -10. -10. -10. -10.]\n",
      " [-10. -10. -10. -10. -10.]\n",
      " [-10. -10. -10. -10. -10.]]\n"
     ]
    }
   ],
   "source": [
    "n = 5 ## grid size\n",
    "\n",
    "# STATES\n",
    "S = []\n",
    "for row in range(0,n):\n",
    "    for col in range(0,n):\n",
    "        S.append((col,row))\n",
    "blocked_states = [(1,3),(2,3),(1,1),(2,1)]\n",
    "        \n",
    "print(\"States\")\n",
    "print(S)\n",
    "print(\"Number of states: \", len(S))\n",
    "print(\"\\n\")\n",
    "\n",
    "\n",
    "\n",
    "# ACTIONS\n",
    "# A = [0, 1, 2, 3, 4] # stay, up, right, down, left\n",
    "A = [(0,0), (0,1), (1,0), (0,-1), (-1,0)] # stay, up, right, down, left\n",
    "print(\"Actions\")\n",
    "print(A)\n",
    "print(\"Number of actions: \", len(A))\n",
    "print(\"\\n\")\n",
    "\n",
    "# TRANSITION PROBABILITIES\n",
    "P = np.zeros((n**2, len(A), n**2))\n",
    "for state in range(n**2):\n",
    "    for action in range(len(A)):\n",
    "#         print(\"state\")\n",
    "#         print(S[state])\n",
    "#         print(\"action\")\n",
    "#         print(A[action])\n",
    "        next_state_candidate = (S[state][0] + A[action][0], S[state][1] + A[action][1])\n",
    "        if next_state_candidate in S and not next_state_candidate in blocked_states:\n",
    "            next_state_index = S.index(next_state_candidate)\n",
    "            P[state,action,next_state_index] = 1\n",
    "#             print(\"next_state_index\")\n",
    "#             print(next_state_index)\n",
    "#             print(\"next_state\")\n",
    "#             print(S[next_state_index])        \n",
    "#         print(\"\\n\")\n",
    "\n",
    "print(\"Transition Probabilities\")\n",
    "print(\"Shape of the transition probability matrix: \", P.shape)\n",
    "print(\"Number of transition probabilities: \", P.shape[0]* P.shape[1]* P.shape[2])\n",
    "\n",
    "# Discount Factor\n",
    "gamma = 0.8\n",
    "\n",
    "##### REWARD MATRIX #####\n",
    "R = np.zeros((n**2, len(A), n**2)) # initialize as a matrix with the same size as P\n",
    "Rw = -10\n",
    "Rs = 10\n",
    "Rd = 1\n",
    "# Associate negative reward with being on Westwood Blvd (Rw) in any next state\n",
    "R[:,:,4] = Rw\n",
    "R[:,:,9] = Rw\n",
    "R[:,:,14] = Rw\n",
    "R[:,:,19] = Rw\n",
    "R[:,:,24] = Rw\n",
    "# Associate positive reward with ENTERING the ice cream shops\n",
    "Rs_state = 12\n",
    "Rd_state = 2\n",
    "for state in range(n**2):\n",
    "    # assign to all state jumps that land in the ice cream shop as long as the current state is not already in the ice cream shop\n",
    "    if state != Rs_state:\n",
    "        R[state,:,Rs_state] = Rs\n",
    "    if state != Rd_state:\n",
    "        R[state,:,Rd_state] = Rd\n",
    "        \n"
   ]
  },
  {
   "cell_type": "code",
   "execution_count": 22,
   "metadata": {},
   "outputs": [
    {
     "name": "stdout",
     "output_type": "stream",
     "text": [
      "0.0\n"
     ]
    }
   ],
   "source": [
    "print(R[8,0,8])"
   ]
  },
  {
   "cell_type": "code",
   "execution_count": 23,
   "metadata": {},
   "outputs": [
    {
     "name": "stdout",
     "output_type": "stream",
     "text": [
      "(2, 2)\n"
     ]
    }
   ],
   "source": [
    "print(S[12])"
   ]
  },
  {
   "cell_type": "code",
   "execution_count": null,
   "metadata": {},
   "outputs": [],
   "source": []
  }
 ],
 "metadata": {
  "kernelspec": {
   "display_name": "Python 3",
   "language": "python",
   "name": "python3"
  },
  "language_info": {
   "codemirror_mode": {
    "name": "ipython",
    "version": 3
   },
   "file_extension": ".py",
   "mimetype": "text/x-python",
   "name": "python",
   "nbconvert_exporter": "python",
   "pygments_lexer": "ipython3",
   "version": "3.6.9"
  }
 },
 "nbformat": 4,
 "nbformat_minor": 4
}
