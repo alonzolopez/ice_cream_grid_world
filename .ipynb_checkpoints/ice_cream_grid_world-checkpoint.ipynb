{
 "cells": [
  {
   "cell_type": "code",
   "execution_count": 1,
   "metadata": {},
   "outputs": [],
   "source": [
    "import numpy as np"
   ]
  },
  {
   "cell_type": "code",
   "execution_count": 30,
   "metadata": {},
   "outputs": [
    {
     "name": "stdout",
     "output_type": "stream",
     "text": [
      "States\n",
      "[(0, 0), (1, 0), (2, 0), (3, 0), (4, 0), (0, 1), (1, 1), (2, 1), (3, 1), (4, 1), (0, 2), (1, 2), (2, 2), (3, 2), (4, 2), (0, 3), (1, 3), (2, 3), (3, 3), (4, 3), (0, 4), (1, 4), (2, 4), (3, 4), (4, 4)]\n",
      "Number of states:  25\n",
      "\n",
      "\n",
      "Actions\n",
      "[0, 1, 2, 3, 4]\n",
      "Number of actions:  5\n",
      "\n",
      "\n",
      "Transition Probabilities\n",
      "Shape of the transition probability matrix:  (25, 5, 25)\n",
      "Number of transition probabilities:  3125\n"
     ]
    }
   ],
   "source": [
    "n = 5 ## grid size\n",
    "\n",
    "# STATES\n",
    "S = []\n",
    "for row in range(0,n):\n",
    "    for col in range(0,n):\n",
    "        S.append((col,row))\n",
    "print(\"States\")\n",
    "print(S)\n",
    "print(\"Number of states: \", len(S))\n",
    "print(\"\\n\")\n",
    "\n",
    "# ACTIONS\n",
    "A = [0, 1, 2, 3, 4]\n",
    "print(\"Actions\")\n",
    "print(A)\n",
    "print(\"Number of actions: \", len(A))\n",
    "print(\"\\n\")\n",
    "\n",
    "# TRANSITION PROBABILITIES\n",
    "P = np.zeros((n**2, len(A), n**2))\n",
    "\n",
    "print(\"Transition Probabilities\")\n",
    "print(\"Shape of the transition probability matrix: \", P.shape)\n",
    "print(\"Number of transition probabilities: \", P.shape[0]* P.shape[1]* P.shape[2])\n",
    "\n"
   ]
  },
  {
   "cell_type": "code",
   "execution_count": null,
   "metadata": {},
   "outputs": [],
   "source": []
  },
  {
   "cell_type": "code",
   "execution_count": null,
   "metadata": {},
   "outputs": [],
   "source": []
  }
 ],
 "metadata": {
  "kernelspec": {
   "display_name": "Python 3",
   "language": "python",
   "name": "python3"
  },
  "language_info": {
   "codemirror_mode": {
    "name": "ipython",
    "version": 3
   },
   "file_extension": ".py",
   "mimetype": "text/x-python",
   "name": "python",
   "nbconvert_exporter": "python",
   "pygments_lexer": "ipython3",
   "version": "3.6.8"
  }
 },
 "nbformat": 4,
 "nbformat_minor": 4
}
